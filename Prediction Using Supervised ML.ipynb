{
 "cells": [
  {
   "cell_type": "markdown",
   "id": "6d311629",
   "metadata": {},
   "source": [
    "# Prediction Using Simple Linear Regression From Scratch"
   ]
  },
  {
   "cell_type": "markdown",
   "id": "ae1ac043",
   "metadata": {},
   "source": [
    "#### Made By : Mayank Kirola (Data Science And Analytics Intern at The Sparks Foundation) #GRIPMAY2022"
   ]
  },
  {
   "cell_type": "markdown",
   "id": "6a9c7995",
   "metadata": {},
   "source": [
    "Regression models describe the relationship between variables by fitting a line to the observed data. \n",
    "\n",
    "Linear regression models use a straight line, while logistic and nonlinear regression models use a curved line."
   ]
  },
  {
   "cell_type": "markdown",
   "id": "5f0a0cf2",
   "metadata": {},
   "source": [
    "##### Importing Functions\n",
    "\n",
    "Pandas - Pandas is a library used to analyze data.\n",
    "\n",
    "Math - Math module is a built-in library which contains important mathematical Functions.\n",
    "\n",
    "Matplotlib - It is a library used to plot graphs.\n",
    "\n",
    "sklearn - Sklearn(Scikit-learn) is the most useful library for machine learning in Python."
   ]
  },
  {
   "cell_type": "code",
   "execution_count": 1,
   "id": "39444d76",
   "metadata": {},
   "outputs": [],
   "source": [
    "from math import sqrt\n",
    "import pandas as pd\n",
    "from matplotlib import pyplot as plt\n",
    "from sklearn.metrics import r2_score"
   ]
  },
  {
   "cell_type": "markdown",
   "id": "fd04c6a7",
   "metadata": {},
   "source": [
    "##### Reading Data\n",
    "\n",
    "Reading data from \"score.csv\" and assigning values to Variables."
   ]
  },
  {
   "cell_type": "code",
   "execution_count": 2,
   "id": "f024563c",
   "metadata": {},
   "outputs": [],
   "source": [
    "data = pd.read_csv(\"score.csv\")"
   ]
  },
  {
   "cell_type": "markdown",
   "id": "bd407f2c",
   "metadata": {},
   "source": [
    "Checking the format of the data."
   ]
  },
  {
   "cell_type": "code",
   "execution_count": 3,
   "id": "c4b285bd",
   "metadata": {},
   "outputs": [
    {
     "data": {
      "text/html": [
       "<div>\n",
       "<style scoped>\n",
       "    .dataframe tbody tr th:only-of-type {\n",
       "        vertical-align: middle;\n",
       "    }\n",
       "\n",
       "    .dataframe tbody tr th {\n",
       "        vertical-align: top;\n",
       "    }\n",
       "\n",
       "    .dataframe thead th {\n",
       "        text-align: right;\n",
       "    }\n",
       "</style>\n",
       "<table border=\"1\" class=\"dataframe\">\n",
       "  <thead>\n",
       "    <tr style=\"text-align: right;\">\n",
       "      <th></th>\n",
       "      <th>Hours</th>\n",
       "      <th>Scores</th>\n",
       "    </tr>\n",
       "  </thead>\n",
       "  <tbody>\n",
       "    <tr>\n",
       "      <th>0</th>\n",
       "      <td>2.5</td>\n",
       "      <td>21</td>\n",
       "    </tr>\n",
       "    <tr>\n",
       "      <th>1</th>\n",
       "      <td>5.1</td>\n",
       "      <td>47</td>\n",
       "    </tr>\n",
       "    <tr>\n",
       "      <th>2</th>\n",
       "      <td>3.2</td>\n",
       "      <td>27</td>\n",
       "    </tr>\n",
       "    <tr>\n",
       "      <th>3</th>\n",
       "      <td>8.5</td>\n",
       "      <td>75</td>\n",
       "    </tr>\n",
       "    <tr>\n",
       "      <th>4</th>\n",
       "      <td>3.5</td>\n",
       "      <td>30</td>\n",
       "    </tr>\n",
       "  </tbody>\n",
       "</table>\n",
       "</div>"
      ],
      "text/plain": [
       "   Hours  Scores\n",
       "0    2.5      21\n",
       "1    5.1      47\n",
       "2    3.2      27\n",
       "3    8.5      75\n",
       "4    3.5      30"
      ]
     },
     "execution_count": 3,
     "metadata": {},
     "output_type": "execute_result"
    }
   ],
   "source": [
    "data.head()"
   ]
  },
  {
   "cell_type": "code",
   "execution_count": 4,
   "id": "36a33dc9",
   "metadata": {},
   "outputs": [],
   "source": [
    "dataset = data.values\n",
    "X = [row[0] for row in dataset]\n",
    "Y = [row[1] for row in dataset]"
   ]
  },
  {
   "cell_type": "markdown",
   "id": "cd087864",
   "metadata": {},
   "source": [
    "## Defining Required Functions"
   ]
  },
  {
   "cell_type": "markdown",
   "id": "9b5d6fde",
   "metadata": {},
   "source": [
    "#### Mean : sum of values / number of values"
   ]
  },
  {
   "cell_type": "code",
   "execution_count": 5,
   "id": "f6c70369",
   "metadata": {},
   "outputs": [],
   "source": [
    "def mean(values):\n",
    "    return sum(values) / float(len(values))"
   ]
  },
  {
   "cell_type": "markdown",
   "id": "35b6ae59",
   "metadata": {},
   "source": [
    "#### Variance : sum ((x-mean(x))^2 )"
   ]
  },
  {
   "cell_type": "code",
   "execution_count": 6,
   "id": "38b857c3",
   "metadata": {},
   "outputs": [],
   "source": [
    "def variance(values, mean):\n",
    "    return sum([(x-mean)**2 for x in values])"
   ]
  },
  {
   "cell_type": "markdown",
   "id": "10b2068a",
   "metadata": {},
   "source": [
    "#### Covariance : sum((x - mean(x)) * (y - mean(y)))"
   ]
  },
  {
   "cell_type": "code",
   "execution_count": 7,
   "id": "b74a49e8",
   "metadata": {},
   "outputs": [],
   "source": [
    "def covariance(x, mean_x, y, mean_y):\n",
    "    covar = 0.0\n",
    "    for i in range(len(x)):\n",
    "        covar += (x[i] - mean_x) * (y[i] - mean_y)\n",
    "    return covar"
   ]
  },
  {
   "cell_type": "markdown",
   "id": "c16413be",
   "metadata": {},
   "source": [
    "### Coefficients :\n",
    "#### B1 = Covariance(x,y) / Variance(x)\n",
    "#### B0 = mean(y) - B1 * mean(x)"
   ]
  },
  {
   "cell_type": "code",
   "execution_count": 8,
   "id": "6ad9fd43",
   "metadata": {},
   "outputs": [],
   "source": [
    "def coefficients(dataset):\n",
    "    x = [row[0] for row in dataset]\n",
    "    y = [row[1] for row in dataset]\n",
    "    x_mean, y_mean = mean(x), mean(y)\n",
    "    b1 = covariance(x, x_mean, y, y_mean) / variance(x, x_mean)\n",
    "    b0 = y_mean - b1 * x_mean\n",
    "    return [b0, b1]"
   ]
  },
  {
   "cell_type": "markdown",
   "id": "a10aa746",
   "metadata": {},
   "source": [
    "#### Using yhat(prediction) = B0(constant) + B1(Slope) * row[0] (x) or Y=MX + C\n",
    "\n",
    "This is simple Stright line equation."
   ]
  },
  {
   "cell_type": "code",
   "execution_count": 9,
   "id": "57bc724c",
   "metadata": {},
   "outputs": [],
   "source": [
    "def simple_linear_regression(train, test):\n",
    "    predictions = []\n",
    "    b0, b1 = coefficients(train)\n",
    "    for row in test:\n",
    "        yhat = b0 + b1 * row[0]\n",
    "        predictions.append(yhat)\n",
    "    return predictions"
   ]
  },
  {
   "cell_type": "markdown",
   "id": "bfc34c0e",
   "metadata": {},
   "source": [
    "#### RMSE (Root Mean Square Error) : (sum((predicted - actual)^2) / number of values)^(1/2)"
   ]
  },
  {
   "cell_type": "code",
   "execution_count": 10,
   "id": "5793b555",
   "metadata": {},
   "outputs": [],
   "source": [
    "def rmse_metric(actual, predicted):\n",
    "    sum_error = 0.0\n",
    "    for i in range(len(actual)):\n",
    "        prediction_error = predicted[i] - actual[i]\n",
    "        sum_error += (prediction_error ** 2)\n",
    "    mean_error = sum_error / float(len(actual))\n",
    "    return sqrt(mean_error)"
   ]
  },
  {
   "cell_type": "code",
   "execution_count": 11,
   "id": "d707069e",
   "metadata": {},
   "outputs": [],
   "source": [
    "def evaluate_algorithm(dataset, algorithm):\n",
    "    test_set = list()\n",
    "    for row in dataset:\n",
    "        row_copy = list(row)\n",
    "        row_copy[-1] = None\n",
    "        test_set.append(row_copy)\n",
    "    predicted = algorithm(dataset, test_set)\n",
    "    actual = [row[-1] for row in dataset]\n",
    "    rmse = rmse_metric(actual, predicted)\n",
    "    return rmse"
   ]
  },
  {
   "cell_type": "markdown",
   "id": "a28a10e7",
   "metadata": {},
   "source": [
    "### Finding Root Mean Square Error"
   ]
  },
  {
   "cell_type": "code",
   "execution_count": 12,
   "id": "13c43dc0",
   "metadata": {},
   "outputs": [
    {
     "name": "stdout",
     "output_type": "stream",
     "text": [
      "RMSE: 5.374\n"
     ]
    }
   ],
   "source": [
    "rmse = evaluate_algorithm(dataset, simple_linear_regression)\n",
    "print('RMSE: %.3f' % (rmse))"
   ]
  },
  {
   "cell_type": "markdown",
   "id": "4eee9645",
   "metadata": {},
   "source": [
    "#### Checking Relevancy of our model"
   ]
  },
  {
   "cell_type": "code",
   "execution_count": 13,
   "id": "ffeb0dca",
   "metadata": {},
   "outputs": [],
   "source": [
    "Y_pred = [simple_linear_regression(dataset,[[p]]) for p in X]"
   ]
  },
  {
   "cell_type": "code",
   "execution_count": 14,
   "id": "d61c4f11",
   "metadata": {},
   "outputs": [
    {
     "data": {
      "text/plain": [
       "95.06250148245327"
      ]
     },
     "execution_count": 14,
     "metadata": {},
     "output_type": "execute_result"
    }
   ],
   "source": [
    "r2_score(Y_pred,Y)*100"
   ]
  },
  {
   "cell_type": "markdown",
   "id": "d626fb84",
   "metadata": {},
   "source": [
    "Our model's relevancy is 95%.\n"
   ]
  },
  {
   "cell_type": "markdown",
   "id": "0c58cead",
   "metadata": {},
   "source": [
    "#### Plotting graph showing actual values and predicted values\n",
    "\n",
    "This Graph is created using matplotlib library."
   ]
  },
  {
   "cell_type": "code",
   "execution_count": 15,
   "id": "a4657485",
   "metadata": {},
   "outputs": [],
   "source": [
    "def graph(dataset):\n",
    "    X = [row[0] for row in dataset]\n",
    "    Y = [row[1] for row in dataset]\n",
    "    plt.scatter(X, Y)\n",
    "    plt.plot(X, Y_pred, color='red')\n",
    "    plt.show()\n",
    "    "
   ]
  },
  {
   "cell_type": "code",
   "execution_count": 16,
   "id": "792cfd69",
   "metadata": {},
   "outputs": [
    {
     "data": {
      "image/png": "[encoded data removed]",
      "text/plain": [
       "<Figure size 432x288 with 1 Axes>"
      ]
     },
     "metadata": {
      "needs_background": "light"
     },
     "output_type": "display_data"
    }
   ],
   "source": [
    "graph(dataset)"
   ]
  },
  {
   "cell_type": "markdown",
   "id": "41589ce9",
   "metadata": {},
   "source": [
    "## Question\n"
   ]
  },
  {
   "cell_type": "markdown",
   "id": "3a463c0b",
   "metadata": {},
   "source": [
    "### What will be the predicted score if a student studies for 9.25hrs/day?"
   ]
  },
  {
   "cell_type": "code",
   "execution_count": 17,
   "id": "3a5e21c8",
   "metadata": {},
   "outputs": [
    {
     "data": {
      "text/plain": [
       "[92.90985477015732]"
      ]
     },
     "execution_count": 17,
     "metadata": {},
     "output_type": "execute_result"
    }
   ],
   "source": [
    "simple_linear_regression(dataset, [[9.25]])"
   ]
  },
  {
   "cell_type": "markdown",
   "id": "e266ceec",
   "metadata": {},
   "source": [
    " According To our algorithm, a student will get 92.9 points if he Studies For 9.25hrs/day. "
   ]
  }
 ],
 "metadata": {
  "kernelspec": {
   "display_name": "Python 3 (ipykernel)",
   "language": "python",
   "name": "python3"
  },
  "language_info": {
   "codemirror_mode": {
    "name": "ipython",
    "version": 3
   },
   "file_extension": ".py",
   "mimetype": "text/x-python",
   "name": "python",
   "nbconvert_exporter": "python",
   "pygments_lexer": "ipython3",
   "version": "3.8.8"
  }
 },
 "nbformat": 4,
 "nbformat_minor": 5
}
